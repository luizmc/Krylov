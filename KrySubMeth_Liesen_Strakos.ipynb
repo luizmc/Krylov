{
 "cells": [
  {
   "cell_type": "markdown",
   "metadata": {},
   "source": [
    "# Krylov Subspace Methods - Principles and Analysis\n",
    "\n",
    "We study the book [Krylov Subspace Methods Principles and Analysis](#ls2013).    The following text is partly or completely taken from this book.\n",
    "\n",
    "All presented algorithms and examples are implemented in Python.\n",
    "\n",
    "We want to solve\n",
    "$Ax=b$, where $A\\in\\mathbb{R}^{N\\times N}$ is nonsingular.  "
   ]
  },
  {
   "cell_type": "markdown",
   "metadata": {},
   "source": [
    "## References\n",
    "\n",
    "- *Jörg Liesen and Zdeněk Strakoš,* **Krylov Subspace Methods - Principles and Analysis**,\n",
    " Oxford University Press, 2013.  <a name=\"ls2013\"></a>\n",
    "\n",
    "\n"
   ]
  }
 ],
 "metadata": {
  "language_info": {
   "name": "python"
  }
 },
 "nbformat": 4,
 "nbformat_minor": 2
}
